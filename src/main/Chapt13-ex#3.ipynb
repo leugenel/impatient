{
 "cells": [
  {
   "cell_type": "code",
   "execution_count": 121,
   "metadata": {
    "collapsed": false
   },
   "outputs": [
    {
     "name": "stdout",
     "output_type": "stream",
     "text": [
      "ListBuffer(1, 2, 3, 4, 5, 6, 7)"
     ]
    }
   ],
   "source": [
    "var mylb = scala.collection.mutable.ListBuffer(1,2,3,4,5,6,7)\n",
    "print(mylb)"
   ]
  },
  {
   "cell_type": "code",
   "execution_count": 124,
   "metadata": {
    "collapsed": false
   },
   "outputs": [
    {
     "name": "stdout",
     "output_type": "stream",
     "text": [
      "ListBuffer(1, 2, 3, 7)"
     ]
    }
   ],
   "source": [
    "mylb.remove(3)\n",
    "print(mylb)"
   ]
  },
  {
   "cell_type": "code",
   "execution_count": 167,
   "metadata": {
    "collapsed": false
   },
   "outputs": [
    {
     "data": {
      "text/plain": [
       "30"
      ]
     },
     "execution_count": 167,
     "metadata": {},
     "output_type": "execute_result"
    }
   ],
   "source": [
    "mylb.reduce(_ + _)"
   ]
  },
  {
   "cell_type": "code",
   "execution_count": null,
   "metadata": {
    "collapsed": false
   },
   "outputs": [],
   "source": [
    "mylb.indices"
   ]
  },
  {
   "cell_type": "code",
   "execution_count": null,
   "metadata": {
    "collapsed": false
   },
   "outputs": [],
   "source": [
    "mylb.indices.filter(_%2==0)"
   ]
  },
  {
   "cell_type": "code",
   "execution_count": null,
   "metadata": {
    "collapsed": false
   },
   "outputs": [],
   "source": [
    "mylb.indices.filter(_%2==0).reduce(_ + _)"
   ]
  },
  {
   "cell_type": "code",
   "execution_count": null,
   "metadata": {
    "collapsed": false
   },
   "outputs": [],
   "source": [
    "var mylb = scala.collection.mutable.ListBuffer(1,3, 0,4,7,9)\n",
    "println (mylb)\n",
    "println(mylb.indices.filter(_%2 != 0))\n",
    "mylb.indices.filter(_%2 != 0).reduce((a,b)=>mylb.remove(a))\n",
    "println(mylb)"
   ]
  },
  {
   "cell_type": "markdown",
   "metadata": {},
   "source": [
    "We are removing elements from the buffer when it changes - this is the problem "
   ]
  },
  {
   "cell_type": "code",
   "execution_count": null,
   "metadata": {
    "collapsed": false
   },
   "outputs": [],
   "source": [
    "var mylb = scala.collection.mutable.ListBuffer(1,3,0,4,7,9)\n",
    "println (mylb)\n",
    "mylb.indices.filter(_%2 != 0).reduceRight((a,b)=>mylb.remove(a))\n",
    "println(mylb)"
   ]
  },
  {
   "cell_type": "code",
   "execution_count": null,
   "metadata": {
    "collapsed": false
   },
   "outputs": [],
   "source": [
    "var mylb = scala.collection.mutable.ListBuffer(1,3,0,4,7,9)\n",
    "println (mylb)\n",
    "mylb.indices.filter(_%2 != 0).foreach(i=>{mylb.remove(i);println(mylb)})"
   ]
  },
  {
   "cell_type": "code",
   "execution_count": 151,
   "metadata": {
    "collapsed": false
   },
   "outputs": [
    {
     "name": "stdout",
     "output_type": "stream",
     "text": [
      "ListBuffer(0, 0, 0, 1, 2, 3, 4, 5, 6, 7, 8, 9, 10, 11)\n",
      "a: 13\n",
      "b:ListBuffer()\n",
      "ListBuffer(0, 0, 0, 1, 2, 3, 4, 5, 6, 7, 8, 9, 10)\n",
      "a: 12\n",
      "b:ListBuffer()\n",
      "ListBuffer(0, 0, 0, 1, 2, 3, 4, 5, 6, 7, 8, 9, 10)\n",
      "a: 11\n",
      "b:ListBuffer()\n",
      "ListBuffer(0, 0, 0, 1, 2, 3, 4, 5, 6, 7, 8, 10)\n",
      "a: 10\n",
      "b:ListBuffer()\n",
      "ListBuffer(0, 0, 0, 1, 2, 3, 4, 5, 6, 7, 8, 10)\n",
      "a: 9\n",
      "b:ListBuffer()\n",
      "ListBuffer(0, 0, 0, 1, 2, 3, 4, 5, 6, 8, 10)\n",
      "a: 8\n",
      "b:ListBuffer()\n",
      "ListBuffer(0, 0, 0, 1, 2, 3, 4, 5, 6, 8, 10)\n",
      "a: 7\n",
      "b:ListBuffer()\n",
      "ListBuffer(0, 0, 0, 1, 2, 3, 4, 6, 8, 10)\n",
      "a: 6\n",
      "b:ListBuffer()\n",
      "ListBuffer(0, 0, 0, 1, 2, 3, 4, 6, 8, 10)\n",
      "a: 5\n",
      "b:ListBuffer()\n",
      "ListBuffer(0, 0, 0, 1, 2, 4, 6, 8, 10)\n",
      "a: 4\n",
      "b:ListBuffer()\n",
      "ListBuffer(0, 0, 0, 1, 2, 4, 6, 8, 10)\n",
      "a: 3\n",
      "b:ListBuffer()\n",
      "ListBuffer(0, 0, 0, 2, 4, 6, 8, 10)\n",
      "a: 2\n",
      "b:ListBuffer()\n",
      "ListBuffer(0, 0, 0, 2, 4, 6, 8, 10)\n",
      "a: 1\n",
      "b:ListBuffer()\n",
      "ListBuffer(0, 0, 2, 4, 6, 8, 10)\n",
      "a: 0\n",
      "b:ListBuffer()\n",
      "ListBuffer(0, 0, 2, 4, 6, 8, 10)\n"
     ]
    },
    {
     "data": {
      "text/plain": [
       "ListBuffer()"
      ]
     },
     "execution_count": 151,
     "metadata": {},
     "output_type": "execute_result"
    }
   ],
   "source": [
    "var mylb = scala.collection.mutable.ListBuffer(0,0,0,1,2,3,4,5,6,7,8,9,10,11)\n",
    "println (mylb)\n",
    "mylb.indices.foldRight(scala.collection.mutable.ListBuffer[Int]())((a,b)=>\n",
    "            {if(a%2!=0){mylb.remove(a)}; println(\"a: \"+a);println(\"b:\" + b);println(mylb);b }  )\n"
   ]
  },
  {
   "cell_type": "markdown",
   "metadata": {},
   "source": [
    "Yes - _foldRight_ - this is RIGHT. Note - _b_ = _mylb_ "
   ]
  },
  {
   "cell_type": "code",
   "execution_count": 153,
   "metadata": {
    "collapsed": false
   },
   "outputs": [
    {
     "data": {
      "text/plain": [
       "ListBuffer(0, 2, 4, 6, 8, 10)"
      ]
     },
     "execution_count": 153,
     "metadata": {},
     "output_type": "execute_result"
    }
   ],
   "source": [
    "var mylb = scala.collection.mutable.ListBuffer(0,1,2,3,4,5,6,7,8,9,10,11)\n",
    "mylb.indices.foldRight(scala.collection.mutable.ListBuffer[Int]())(\n",
    "            (a,b)=>\n",
    "                {if(a%2!=0){mylb.remove(a)};\n",
    "                 b}  \n",
    "            )\n",
    "mylb"
   ]
  },
  {
   "cell_type": "markdown",
   "metadata": {},
   "source": [
    "We may to return **b** inside because we need it only for the right type, in the end we need return **mylb** "
   ]
  },
  {
   "cell_type": "code",
   "execution_count": 154,
   "metadata": {
    "collapsed": false
   },
   "outputs": [
    {
     "data": {
      "text/plain": [
       "ListBuffer(0, 2, 4, 6, 8, 10)"
      ]
     },
     "execution_count": 154,
     "metadata": {},
     "output_type": "execute_result"
    }
   ],
   "source": [
    "var mylb = scala.collection.mutable.ListBuffer(0,1,2,3,4,5,6,7,8,9,10,11)\n",
    "mylb.indices.foldRight(scala.collection.mutable.ListBuffer[Int]())(\n",
    "            (a,b)=>\n",
    "                {if(a%2!=0){mylb.remove(a)};\n",
    "                 mylb}  \n",
    "            )"
   ]
  },
  {
   "cell_type": "markdown",
   "metadata": {},
   "source": [
    "In this case we returns **mylb** from the inside "
   ]
  },
  {
   "cell_type": "code",
   "execution_count": 152,
   "metadata": {
    "collapsed": false
   },
   "outputs": [
    {
     "data": {
      "text/plain": [
       "ListBuffer(0, 2, 4, 6, 8, 10)"
      ]
     },
     "execution_count": 152,
     "metadata": {},
     "output_type": "execute_result"
    }
   ],
   "source": [
    "var mylb = scala.collection.mutable.ListBuffer(0,1,2,3,4,5,6,7,8,9,10,11)\n",
    "mylb.indices.foldRight(scala.collection.mutable.ListBuffer[Int]())((a,b) => a%2 match \n",
    "            {case 0 => b\n",
    "             case _ => mylb.remove(a);b\n",
    "            })\n",
    "mylb"
   ]
  },
  {
   "cell_type": "code",
   "execution_count": 164,
   "metadata": {
    "collapsed": false
   },
   "outputs": [
    {
     "name": "stdout",
     "output_type": "stream",
     "text": [
      "a: 11\n",
      "b: ()\n",
      "a: 10\n",
      "b: ()\n",
      "a: 9\n",
      "b: ()\n",
      "a: 8\n",
      "b: ()\n",
      "a: 7\n",
      "b: ()\n",
      "a: 6\n",
      "b: ()\n",
      "a: 5\n",
      "b: ()\n",
      "a: 4\n",
      "b: ()\n",
      "a: 3\n",
      "b: ()\n",
      "a: 2\n",
      "b: ()\n",
      "a: 1\n",
      "b: ()\n",
      "a: 0\n",
      "b: ()\n"
     ]
    },
    {
     "data": {
      "text/plain": [
       "ListBuffer(0, 2, 4, 6, 8, 10)"
      ]
     },
     "execution_count": 164,
     "metadata": {},
     "output_type": "execute_result"
    }
   ],
   "source": [
    "var mylb = scala.collection.mutable.ListBuffer(0,1,2,3,4,5,6,7,8,9,10,11)\n",
    "mylb.indices.foldRight()((a,b)=>{if(a%2!=0){mylb.remove(a)};println(\"a: \"+a);println(\"b: \"+b);})\n",
    "mylb "
   ]
  },
  {
   "cell_type": "code",
   "execution_count": 162,
   "metadata": {
    "collapsed": false
   },
   "outputs": [
    {
     "data": {
      "text/plain": [
       "ListBuffer(0, 2, 4, 6, 8, 10)"
      ]
     },
     "execution_count": 162,
     "metadata": {},
     "output_type": "execute_result"
    }
   ],
   "source": [
    "var mylb = scala.collection.mutable.ListBuffer(0,1,2,3,4,5,6,7,8,9,10,11)\n",
    "mylb.indices.foldRight()((a,b)=>{if(a%2!=0){mylb.remove(a)}})\n",
    "mylb            "
   ]
  },
  {
   "cell_type": "markdown",
   "metadata": {},
   "source": [
    "Looks much more elegant "
   ]
  },
  {
   "cell_type": "code",
   "execution_count": 183,
   "metadata": {
    "collapsed": false
   },
   "outputs": [
    {
     "name": "stdout",
     "output_type": "stream",
     "text": [
      "a: 10\n",
      "b: 11\n",
      "ListBuffer(0, 1, 2, 3, 4, 5, 6, 7, 8, 9, 10)\n",
      "a: 9\n",
      "b: 0\n",
      "ListBuffer(0, 1, 2, 3, 4, 5, 6, 7, 8, 9, 10)\n",
      "a: 8\n",
      "b: 0\n",
      "ListBuffer(0, 1, 2, 3, 4, 5, 6, 7, 8, 10)\n",
      "a: 7\n",
      "b: 0\n",
      "ListBuffer(0, 1, 2, 3, 4, 5, 6, 7, 8, 10)\n",
      "a: 6\n",
      "b: 0\n",
      "ListBuffer(0, 1, 2, 3, 4, 5, 6, 8, 10)\n",
      "a: 5\n",
      "b: 0\n",
      "ListBuffer(0, 1, 2, 3, 4, 5, 6, 8, 10)\n",
      "a: 4\n",
      "b: 0\n",
      "ListBuffer(0, 1, 2, 3, 4, 6, 8, 10)\n",
      "a: 3\n",
      "b: 0\n",
      "ListBuffer(0, 1, 2, 3, 4, 6, 8, 10)\n",
      "a: 2\n",
      "b: 0\n",
      "ListBuffer(0, 1, 2, 4, 6, 8, 10)\n",
      "a: 1\n",
      "b: 0\n",
      "ListBuffer(0, 1, 2, 4, 6, 8, 10)\n",
      "a: 0\n",
      "b: 0\n",
      "ListBuffer(0, 2, 4, 6, 8, 10)\n"
     ]
    },
    {
     "data": {
      "text/plain": [
       "ListBuffer(0, 2, 4, 6, 8, 10)"
      ]
     },
     "execution_count": 183,
     "metadata": {},
     "output_type": "execute_result"
    }
   ],
   "source": [
    "var mylb = scala.collection.mutable.ListBuffer(0,1,2,3,4,5,6,7,8,9,10,11)\n",
    "mylb.indices.reduceRight((a,b)=>{if((a+1)%2!=0){mylb.remove(a+1)};println(\"a: \"+a);println(\"b: \"+b);println(mylb);0})\n",
    "mylb "
   ]
  },
  {
   "cell_type": "code",
   "execution_count": null,
   "metadata": {
    "collapsed": false
   },
   "outputs": [],
   "source": [
    "var mylb = scala.collection.mutable.ListBuffer()\n",
    "mylb.indices.reduceRight((a,b)=>{if((a+1)%2!=0){mylb.remove(a+1)};println(\"a: \"+a);println(\"b: \"+b);println(mylb);0})\n",
    "mylb "
   ]
  },
  {
   "cell_type": "markdown",
   "metadata": {},
   "source": [
    "Solution with just _reduceRight_ will not work in case empty list"
   ]
  }
 ],
 "metadata": {
  "kernelspec": {
   "display_name": "Apache Toree - Scala",
   "language": "scala",
   "name": "apache_toree_scala"
  },
  "language_info": {
   "name": "scala",
   "version": "2.10.4"
  }
 },
 "nbformat": 4,
 "nbformat_minor": 2
}
