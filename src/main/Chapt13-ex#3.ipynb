{
 "cells": [
  {
   "cell_type": "code",
   "execution_count": null,
   "metadata": {
    "collapsed": false
   },
   "outputs": [],
   "source": [
    "var mylb = scala.collection.mutable.ListBuffer(1,2,3,4,5,6,7)\n",
    "print(mylb)"
   ]
  },
  {
   "cell_type": "code",
   "execution_count": null,
   "metadata": {
    "collapsed": false
   },
   "outputs": [],
   "source": [
    "mylb.remove(3)\n",
    "print(mylb)"
   ]
  },
  {
   "cell_type": "code",
   "execution_count": null,
   "metadata": {
    "collapsed": false
   },
   "outputs": [],
   "source": [
    "mylb.reduce(_ + _)"
   ]
  },
  {
   "cell_type": "code",
   "execution_count": null,
   "metadata": {
    "collapsed": false
   },
   "outputs": [],
   "source": [
    "mylb.indices"
   ]
  },
  {
   "cell_type": "code",
   "execution_count": null,
   "metadata": {
    "collapsed": false
   },
   "outputs": [],
   "source": [
    "mylb.indices.filter(_%2==0)"
   ]
  },
  {
   "cell_type": "code",
   "execution_count": null,
   "metadata": {
    "collapsed": false
   },
   "outputs": [],
   "source": [
    "mylb.indices.filter(_%2==0).reduce(_ + _)"
   ]
  },
  {
   "cell_type": "code",
   "execution_count": null,
   "metadata": {
    "collapsed": false
   },
   "outputs": [],
   "source": [
    "var mylb = scala.collection.mutable.ListBuffer(1,3, 0,4,7,9)\n",
    "println (mylb)\n",
    "println(mylb.indices.filter(_%2 != 0))\n",
    "mylb.indices.filter(_%2 != 0).reduce((a,b)=>mylb.remove(a))\n",
    "println(mylb)"
   ]
  },
  {
   "cell_type": "markdown",
   "metadata": {},
   "source": [
    "We are removing elements from the buffer when it changes - this is the problem "
   ]
  },
  {
   "cell_type": "code",
   "execution_count": null,
   "metadata": {
    "collapsed": false
   },
   "outputs": [],
   "source": [
    "var mylb = scala.collection.mutable.ListBuffer(1,3,0,4,7,9)\n",
    "println (mylb)\n",
    "mylb.indices.filter(_%2 != 0).reduceRight((a,b)=>mylb.remove(a))\n",
    "println(mylb)"
   ]
  },
  {
   "cell_type": "code",
   "execution_count": null,
   "metadata": {
    "collapsed": false
   },
   "outputs": [],
   "source": [
    "var mylb = scala.collection.mutable.ListBuffer(1,3,0,4,7,9)\n",
    "println (mylb)\n",
    "mylb.indices.filter(_%2 != 0).foreach(i=>{mylb.remove(i);println(mylb)})"
   ]
  },
  {
   "cell_type": "code",
   "execution_count": null,
   "metadata": {
    "collapsed": false
   },
   "outputs": [],
   "source": [
    "var mylb = scala.collection.mutable.ListBuffer(0,0,0,1,2,3,4,5,6,7,8,9,10,11)\n",
    "println (mylb)\n",
    "mylb.indices.foldRight(scala.collection.mutable.ListBuffer[Int]())((a,b)=>\n",
    "            {if(a%2!=0){mylb.remove(a)}; println(\"a: \"+a);println(\"b:\" + b);println(mylb);b }  )"
   ]
  },
  {
   "cell_type": "markdown",
   "metadata": {},
   "source": [
    "_foldRight_ solution. Note - _b_ = _mylb_ "
   ]
  },
  {
   "cell_type": "code",
   "execution_count": null,
   "metadata": {
    "collapsed": false
   },
   "outputs": [],
   "source": [
    "var mylb = scala.collection.mutable.ListBuffer(0,1,2,3,4,5,6,7,8,9,10,11)\n",
    "mylb.indices.foldRight(scala.collection.mutable.ListBuffer[Int]())(\n",
    "            (a,b)=>\n",
    "                {if(a%2!=0){mylb.remove(a)};\n",
    "                 b}  \n",
    "            )\n",
    "mylb"
   ]
  },
  {
   "cell_type": "markdown",
   "metadata": {},
   "source": [
    "We may to return **b** inside because we need it only for the right type, in the end we need return **mylb** "
   ]
  },
  {
   "cell_type": "code",
   "execution_count": null,
   "metadata": {
    "collapsed": false
   },
   "outputs": [],
   "source": [
    "var mylb = scala.collection.mutable.ListBuffer(0,1,2,3,4,5,6,7,8,9,10,11)\n",
    "mylb.indices.foldRight(scala.collection.mutable.ListBuffer[Int]())(\n",
    "            (a,b)=>\n",
    "                {if(a%2!=0){mylb.remove(a)};\n",
    "                 mylb}  \n",
    "            )"
   ]
  },
  {
   "cell_type": "markdown",
   "metadata": {},
   "source": [
    "In this case we returns **mylb** from the inside "
   ]
  },
  {
   "cell_type": "code",
   "execution_count": null,
   "metadata": {
    "collapsed": false
   },
   "outputs": [],
   "source": [
    "var mylb = scala.collection.mutable.ListBuffer(0,1,2,3,4,5,6,7,8,9,10,11)\n",
    "mylb.indices.foldRight(scala.collection.mutable.ListBuffer[Int]())((a,b) => a%2 match \n",
    "            {case 0 => b\n",
    "             case _ => mylb.remove(a);b\n",
    "            })\n",
    "mylb"
   ]
  },
  {
   "cell_type": "code",
   "execution_count": null,
   "metadata": {
    "collapsed": false
   },
   "outputs": [],
   "source": [
    "var mylb = scala.collection.mutable.ListBuffer(0,1,2,3,4,5,6,7,8,9,10,11)\n",
    "mylb.indices.foldRight()((a,b)=>{if(a%2!=0){mylb.remove(a)};println(\"a: \"+a);println(\"b: \"+b);})\n",
    "mylb"
   ]
  },
  {
   "cell_type": "code",
   "execution_count": null,
   "metadata": {
    "collapsed": false
   },
   "outputs": [],
   "source": [
    "var mylb = scala.collection.mutable.ListBuffer(0,1,2,3,4,5,6,7,8,9,10,11)\n",
    "mylb.indices.foldRight()((a,b)=>{if(a%2!=0){mylb.remove(a)}})\n",
    "mylb"
   ]
  },
  {
   "cell_type": "markdown",
   "metadata": {},
   "source": [
    "Looks much more elegant "
   ]
  },
  {
   "cell_type": "code",
   "execution_count": null,
   "metadata": {
    "collapsed": false
   },
   "outputs": [],
   "source": [
    "var mylb = scala.collection.mutable.ListBuffer()\n",
    "mylb.indices.reduceRight((a,b)=>{if((a+1)%2!=0){mylb.remove(a+1)};println(\"a: \"+a);println(\"b: \"+b);println(mylb);0})\n",
    "mylb"
   ]
  },
  {
   "cell_type": "markdown",
   "metadata": {},
   "source": [
    "Solution with just _reduceRight_ will not work in case empty list"
   ]
  },
  {
   "cell_type": "code",
   "execution_count": null,
   "metadata": {
    "collapsed": false
   },
   "outputs": [],
   "source": [
    "var mylb = scala.collection.mutable.ListBuffer(0,1,2,3,4,5,6,7,8,9,10,11)\n",
    "mylb.indices.reverse.foreach{(i:Int)=> if( i%2!=0 && i<mylb.length ) mylb.remove(i);println(mylb)}\n",
    "mylb"
   ]
  },
  {
   "cell_type": "markdown",
   "metadata": {},
   "source": [
    "This solution simpler than _reduceRight_ and will work faster (take 2ms). The idea to use _revers_ in order to remove elements from the list end."
   ]
  },
  {
   "cell_type": "code",
   "execution_count": null,
   "metadata": {
    "collapsed": false
   },
   "outputs": [],
   "source": [
    "var mylb = scala.collection.mutable.ListBuffer(0,1,2,3,4,5,6,7,8,9,10,11)\n",
    "var mylbnew = scala.collection.mutable.ListBuffer[Int]()\n",
    "mylb.indices.foreach{(i:Int)=> if( i%2==0 && i<mylb.length) mylbnew+=mylb(i);println(mylbnew)}\n",
    "mylbnew"
   ]
  },
  {
   "cell_type": "markdown",
   "metadata": {},
   "source": [
    "This solution with using additional buffer - took 1ms the previous solution takes 2ms "
   ]
  }
 ],
 "metadata": {
  "kernelspec": {
   "display_name": "Apache Toree - Scala",
   "language": "scala",
   "name": "apache_toree_scala"
  },
  "language_info": {
   "name": "scala",
   "version": "2.10.4"
  }
 },
 "nbformat": 4,
 "nbformat_minor": 0
}