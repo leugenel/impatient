{
 "cells": [
  {
   "cell_type": "markdown",
   "metadata": {},
   "source": [
    " Exercise #5 Implement a function that works just like _mkString_, using _reduceLeft_."
   ]
  },
  {
   "cell_type": "code",
   "execution_count": 1,
   "metadata": {
    "collapsed": false
   },
   "outputs": [
    {
     "name": "stdout",
     "output_type": "stream",
     "text": [
      "a : b : c\n"
     ]
    }
   ],
   "source": [
    "println(List(\"a\", \"b\", \"c\").mkString(\" : \"))"
   ]
  },
  {
   "cell_type": "code",
   "execution_count": 13,
   "metadata": {
    "collapsed": false
   },
   "outputs": [
    {
     "name": "stdout",
     "output_type": "stream",
     "text": [
      "a\n"
     ]
    }
   ],
   "source": [
    "println(List(\"a\").mkString(\" : \"))"
   ]
  },
  {
   "cell_type": "code",
   "execution_count": 2,
   "metadata": {
    "collapsed": false
   },
   "outputs": [
    {
     "data": {
      "text/plain": [
       "abc"
      ]
     },
     "execution_count": 2,
     "metadata": {},
     "output_type": "execute_result"
    }
   ],
   "source": [
    "List(\"a\", \"b\", \"c\").reduceLeft(_ + _)"
   ]
  },
  {
   "cell_type": "code",
   "execution_count": 9,
   "metadata": {
    "collapsed": false
   },
   "outputs": [
    {
     "name": "stdout",
     "output_type": "stream",
     "text": [
      "a: a  b: b\n",
      "a: ab  b: c\n"
     ]
    },
    {
     "data": {
      "text/plain": [
       "abc"
      ]
     },
     "execution_count": 9,
     "metadata": {},
     "output_type": "execute_result"
    }
   ],
   "source": [
    "List(\"a\", \"b\", \"c\").reduceLeft( (a,b) => {println(\"a: \"+a+\"  b: \"+ b);a+b })"
   ]
  },
  {
   "cell_type": "code",
   "execution_count": 10,
   "metadata": {
    "collapsed": false
   },
   "outputs": [
    {
     "data": {
      "text/plain": [
       "a:b:c"
      ]
     },
     "execution_count": 10,
     "metadata": {},
     "output_type": "execute_result"
    }
   ],
   "source": [
    "val delim = \":\"\n",
    "List(\"a\", \"b\", \"c\").reduceLeft( (a,b) => a+delim+b )"
   ]
  },
  {
   "cell_type": "markdown",
   "metadata": {},
   "source": [
    "Exercise #6"
   ]
  },
  {
   "cell_type": "code",
   "execution_count": 60,
   "metadata": {
    "collapsed": false
   },
   "outputs": [
    {
     "name": "stdout",
     "output_type": "stream",
     "text": [
      "List(3, 2, 1)\n",
      "List(3, 2, 1)\n",
      "List(1, 2, 3)\n",
      "3\n",
      "2\n",
      "1\n",
      "List(3, 2, 1)\n"
     ]
    }
   ],
   "source": [
    "val lst = List (1,2,3)\n",
    "println((lst :\\ List[Int]())(_ :: _).reverse)\n",
    "println((List[Int]() /: lst)(_ :+ _).reverse)\n",
    "println( (lst :\\ List[Int]())(_ +: _) )\n",
    "println( lst.foldRight(List[Int]()) {(a,b) => {println(a); b :+ a}  }  )"
   ]
  },
  {
   "cell_type": "markdown",
   "metadata": {},
   "source": [
    "Finally:"
   ]
  },
  {
   "cell_type": "code",
   "execution_count": 62,
   "metadata": {
    "collapsed": false
   },
   "outputs": [
    {
     "data": {
      "text/plain": [
       "List(3, 2, 1)"
      ]
     },
     "execution_count": 62,
     "metadata": {},
     "output_type": "execute_result"
    }
   ],
   "source": [
    "List (1,2,3).foldRight(List[Int]()) {(elem, accumulator) =>  accumulator :+ elem }"
   ]
  }
 ],
 "metadata": {
  "kernelspec": {
   "display_name": "Apache Toree - Scala",
   "language": "scala",
   "name": "apache_toree_scala"
  },
  "language_info": {
   "name": "scala",
   "version": "2.10.4"
  }
 },
 "nbformat": 4,
 "nbformat_minor": 0
}