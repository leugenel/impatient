{
 "cells": [
  {
   "cell_type": "markdown",
   "metadata": {},
   "source": [
    "Using pattern matching, write a function swap that receives a pair of integers and returns the pair with the components swapped."
   ]
  },
  {
   "cell_type": "code",
   "execution_count": null,
   "metadata": {
    "collapsed": false
   },
   "outputs": [],
   "source": [
    "def swap(x:Int, y:Int) = (y,x)\n",
    "println(swap(1,2))"
   ]
  },
  {
   "cell_type": "markdown",
   "metadata": {},
   "source": [
    "The function above takes not pair but two integers, the proper solution is below:"
   ]
  },
  {
   "cell_type": "code",
   "execution_count": null,
   "metadata": {
    "collapsed": false
   },
   "outputs": [],
   "source": [
    "val mypair = (12,34)\n",
    "def swap (pair:(Int,Int)) = pair match {case(x,y)=>(y,x)}\n",
    "println(swap(mypair))"
   ]
  },
  {
   "cell_type": "markdown",
   "metadata": {},
   "source": [
    "Using pattern matching, write a function swap that swaps the first two elements of an array provided its length is at least two"
   ]
  },
  {
   "cell_type": "code",
   "execution_count": null,
   "metadata": {
    "collapsed": false
   },
   "outputs": [],
   "source": [
    "def swap(arr:Array[Int]):Array[Int] = arr match {\n",
    "                        case (Array(x,y, rest @ _*)) => Array(y,x)++rest\n",
    "                        case _ => arr }\n"
   ]
  },
  {
   "cell_type": "markdown",
   "metadata": {},
   "source": [
    "Testing: "
   ]
  },
  {
   "cell_type": "code",
   "execution_count": null,
   "metadata": {
    "collapsed": false
   },
   "outputs": [],
   "source": [
    "val myArr = Array(1,2,3,4,5)                        \n",
    "println(swap(myArr).mkString(\" \")) \n",
    "val myArr2 = Array(1,2)\n",
    "println(swap(myArr2).mkString(\" \")) \n",
    "val myArr3 = Array(1)\n",
    "println(swap(myArr3).mkString(\" \")) "
   ]
  }
 ],
 "metadata": {
  "kernelspec": {
   "display_name": "Apache Toree - Scala",
   "language": "scala",
   "name": "apache_toree_scala"
  },
  "language_info": {
   "name": "scala",
   "version": "2.10.4"
  }
 },
 "nbformat": 4,
 "nbformat_minor": 2
}
