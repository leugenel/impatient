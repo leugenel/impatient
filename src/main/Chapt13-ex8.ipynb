{
 "cells": [
  {
   "cell_type": "markdown",
   "metadata": {},
   "source": [
    "Write a function that turns an array of Double values into a two-dimensional array. Pass the number of columns as a parameter. For example, with Array(1, 2, 3, 4, 5, 6) and three columns, return Array(Array(1, 2, 3), Array(4, 5, 6)). Use the grouped method."
   ]
  },
  {
   "cell_type": "code",
   "execution_count": 39,
   "metadata": {
    "collapsed": false
   },
   "outputs": [
    {
     "name": "stdout",
     "output_type": "stream",
     "text": [
      "Array(Array(1, 2, 3), Array(4, 5, 6))"
     ]
    }
   ],
   "source": [
    "val arr = Array(1, 2, 3, 4, 5, 6).grouped(3).toArray\n",
    "val str = runtime.ScalaRunTime.stringOf(arr)\n",
    "print (str)"
   ]
  },
  {
   "cell_type": "markdown",
   "metadata": {},
   "source": [
    "We need to use _stringOf_ because we have some problem with printing arrays in Scala.\n",
    "Please see https://stackoverflow.com/questions/17634427/printing-array-in-scala"
   ]
  },
  {
   "cell_type": "code",
   "execution_count": 41,
   "metadata": {
    "collapsed": false
   },
   "outputs": [
    {
     "name": "stdout",
     "output_type": "stream",
     "text": [
      "Array(Array(1), Array(2), Array(3), Array(4), Array(5), Array(6))"
     ]
    }
   ],
   "source": [
    "val arr = Array(1, 2, 3, 4, 5, 6).grouped(1).toArray\n",
    "val str = runtime.ScalaRunTime.stringOf(arr)\n",
    "print (str)"
   ]
  },
  {
   "cell_type": "code",
   "execution_count": null,
   "metadata": {
    "collapsed": false
   },
   "outputs": [],
   "source": [
    "val arr = Array(1, 2, 3, 4, 5, 6).grouped(0).toArray\n",
    "val str = runtime.ScalaRunTime.stringOf(arr)\n",
    "print (str)"
   ]
  }
 ],
 "metadata": {
  "kernelspec": {
   "display_name": "Apache Toree - Scala",
   "language": "scala",
   "name": "apache_toree_scala"
  },
  "language_info": {
   "name": "scala",
   "version": "2.10.4"
  }
 },
 "nbformat": 4,
 "nbformat_minor": 2
}
