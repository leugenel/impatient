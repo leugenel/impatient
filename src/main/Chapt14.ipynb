{
 "cells": [
  {
   "cell_type": "code",
   "execution_count": null,
   "metadata": {
    "collapsed": false
   },
   "outputs": [],
   "source": [
    "val obj = 1;\n",
    "println(obj.isInstanceOf[Int])\n",
    "val res = obj match{\n",
    "    case x:Int => x\n",
    "    case _ => 0\n",
    "}\n",
    "println(res)"
   ]
  },
  {
   "cell_type": "markdown",
   "metadata": {},
   "source": [
    "This code below will not work"
   ]
  },
  {
   "cell_type": "code",
   "execution_count": null,
   "metadata": {
    "collapsed": false
   },
   "outputs": [],
   "source": [
    "val obj = \"1\";\n",
    "println(obj.isInstanceOf[Int])\n",
    "val res = obj match {\n",
    "    case _: Int => 1\n",
    "    case _ => 0\n",
    "}\n",
    "println(res)"
   ]
  },
  {
   "cell_type": "markdown",
   "metadata": {},
   "source": [
    "But this \"small\" adding _Any_ will fix the issue"
   ]
  },
  {
   "cell_type": "code",
   "execution_count": null,
   "metadata": {
    "collapsed": false
   },
   "outputs": [],
   "source": [
    "val obj:Any = 1;\n",
    "println(obj.isInstanceOf[Int])\n",
    "val res = obj match{\n",
    "    case x:Int => x\n",
    "    case _ => 0\n",
    "}\n",
    "println(res)"
   ]
  },
  {
   "cell_type": "code",
   "execution_count": null,
   "metadata": {
    "collapsed": false
   },
   "outputs": [],
   "source": [
    "val obj:Any = \"1\";\n",
    "println(obj.isInstanceOf[Int])\n",
    "val res = obj match{\n",
    "    case x:Int => x\n",
    "    case s:String => Integer.parseInt(s)\n",
    "    case _ => 0\n",
    "}\n",
    "println(res)"
   ]
  },
  {
   "cell_type": "code",
   "execution_count": null,
   "metadata": {
    "collapsed": false
   },
   "outputs": [],
   "source": [
    "val obj:Any = true;\n",
    "println(obj.isInstanceOf[Int])\n",
    "val res = obj match{\n",
    "    case x:Int => x\n",
    "    case s:String => Integer.parseInt(s)\n",
    "    case _ => 0\n",
    "}\n",
    "println(res)"
   ]
  },
  {
   "cell_type": "markdown",
   "metadata": {},
   "source": [
    "Array"
   ]
  },
  {
   "cell_type": "code",
   "execution_count": null,
   "metadata": {
    "collapsed": false
   },
   "outputs": [],
   "source": [
    "val arr = Array(1,3,4)\n",
    "arr match {\n",
    "    case Array(1) => println(\"Array contains only 1 item 1\")\n",
    "    case Array(x,y) => s\"$x $y\"; println(x + \"  \" + y)\n",
    "    case Array(1, _*) => println(\"1 and more\")\n",
    "    case _ => println(\"Other case\")\n",
    "}"
   ]
  },
  {
   "cell_type": "code",
   "execution_count": null,
   "metadata": {
    "collapsed": false
   },
   "outputs": [],
   "source": [
    "val arr = Array(1,3,4)\n",
    "arr match {\n",
    "    case Array(1) => println(\"Array contains only 1 item 1\")\n",
    "    case Array(1, x @ _*) => println(x)\n",
    "    case _ => println(\"Other case\")\n",
    "}"
   ]
  },
  {
   "cell_type": "markdown",
   "metadata": {},
   "source": [
    "Tuple"
   ]
  },
  {
   "cell_type": "code",
   "execution_count": null,
   "metadata": {
    "collapsed": false
   },
   "outputs": [],
   "source": [
    "val pair = (3,2)\n",
    "pair match {\n",
    "    case (1, _) => println(\"Pair starts with 1\")\n",
    "    case (x, _) => s\"$x\"; println(x)\n",
    "    case _ => println(\"Other case\")\n",
    "}"
   ]
  },
  {
   "cell_type": "code",
   "execution_count": null,
   "metadata": {
    "collapsed": false
   },
   "outputs": [],
   "source": [
    "val pattern = \"([0-9]+) ([a-z]+)\".r\n",
    "\"2017 year\" match {\n",
    "    case pattern(year, text) => println(year+\" \"+text)\n",
    "    case _ => println(\"nothing found\")\n",
    "}\n",
    "\"2017 current year\" match {\n",
    "    case pattern(year, text) => println(year+\" \"+text)\n",
    "    case _ => println(\"nothing found\")\n",
    "}\n",
    "\"current year\" match {\n",
    "    case pattern(year, text) => println(year+\" \"+text)\n",
    "    case _ => println(\"nothing found\")\n",
    "}\n"
   ]
  }
 ],
 "metadata": {
  "kernelspec": {
   "display_name": "Apache Toree - Scala",
   "language": "scala",
   "name": "apache_toree_scala"
  },
  "language_info": {
   "name": "scala",
   "version": "2.10.4"
  }
 },
 "nbformat": 4,
 "nbformat_minor": 2
}
