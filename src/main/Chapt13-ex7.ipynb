{
 "cells": [
  {
   "cell_type": "markdown",
   "metadata": {},
   "source": [
    "In Section 13.10, **Zipping** on page 187, the expression (prices zip quantities) _map{p => p._1  *  p._2}_ \n",
    "is a bit inelegant. \n",
    "We can’t do (prices zip quantities) map { _ * _ } because _ * _ is a function with two arguments, \n",
    "and we need a function with one argument that is a tuple. \n",
    "The _tupled_ method of the Function object changes a function with two arguments to one that takes a tuple. Apply _tupled_ to the multiplication function so you can map it over the list of pairs."
   ]
  },
  {
   "cell_type": "code",
   "execution_count": 7,
   "metadata": {
    "collapsed": false
   },
   "outputs": [
    {
     "data": {
      "text/plain": [
       "List(50.0, 40.0, 9.95)"
      ]
     },
     "execution_count": 7,
     "metadata": {},
     "output_type": "execute_result"
    }
   ],
   "source": [
    "val prices = List(5.0, 20.0, 9.95)\n",
    "val quantities = List(10, 2, 1)\n",
    "(prices zip quantities) map {p => p._1 * p._2}"
   ]
  },
  {
   "cell_type": "code",
   "execution_count": 13,
   "metadata": {
    "collapsed": false
   },
   "outputs": [
    {
     "data": {
      "text/plain": [
       "List((5.0,10), (20.0,2), (9.95,1))"
      ]
     },
     "execution_count": 13,
     "metadata": {},
     "output_type": "execute_result"
    }
   ],
   "source": [
    "(prices zip quantities) map {p => p }"
   ]
  },
  {
   "cell_type": "code",
   "execution_count": 20,
   "metadata": {
    "collapsed": false
   },
   "outputs": [
    {
     "data": {
      "text/plain": [
       "Name: Compile Error\n",
       "Message: <console>:1: error: ';' expected but '.' found.\n",
       "       (prices zip quantities) map {_ Function.tupled(*) _}\n",
       "                                              ^\n",
       "StackTrace: "
      ]
     },
     "execution_count": 20,
     "metadata": {},
     "output_type": "execute_result"
    }
   ],
   "source": [
    "(prices zip quantities) map {_ Function.tupled(*) _}"
   ]
  },
  {
   "cell_type": "code",
   "execution_count": 54,
   "metadata": {
    "collapsed": false
   },
   "outputs": [
    {
     "name": "stdout",
     "output_type": "stream",
     "text": [
      "12\n"
     ]
    },
    {
     "data": {
      "text/plain": [
       "6"
      ]
     },
     "execution_count": 54,
     "metadata": {},
     "output_type": "execute_result"
    }
   ],
   "source": [
    "val f = (a:Int ,b:Int ) => a * b\n",
    "println(f(3,4))\n",
    "val t = (2,3)  \n",
    "f.tupled(t)"
   ]
  },
  {
   "cell_type": "code",
   "execution_count": 66,
   "metadata": {
    "collapsed": false
   },
   "outputs": [
    {
     "data": {
      "text/plain": [
       "List(50.0, 40.0, 9.95)"
      ]
     },
     "execution_count": 66,
     "metadata": {},
     "output_type": "execute_result"
    }
   ],
   "source": [
    "val f = (a:Double,b:Int ) => a * b\n",
    "(prices zip quantities) map {p => f.tupled(p)}"
   ]
  },
  {
   "cell_type": "code",
   "execution_count": 79,
   "metadata": {
    "collapsed": false
   },
   "outputs": [
    {
     "data": {
      "text/plain": [
       "List(50.0, 40.0, 9.95)"
      ]
     },
     "execution_count": 79,
     "metadata": {},
     "output_type": "execute_result"
    }
   ],
   "source": [
    "val f = (a:Double,b:Int ) => (a * b)\n",
    "val ft = f.tupled\n",
    "(prices zip quantities) map {p => ft(p)}"
   ]
  },
  {
   "cell_type": "code",
   "execution_count": 80,
   "metadata": {
    "collapsed": false
   },
   "outputs": [
    {
     "data": {
      "text/plain": [
       "List(50.0, 40.0, 9.95)"
      ]
     },
     "execution_count": 80,
     "metadata": {},
     "output_type": "execute_result"
    }
   ],
   "source": [
    "val ft = ((a:Double,b:Int ) => (a * b)).tupled\n",
    "(prices zip quantities) map {p => ft(p)}"
   ]
  },
  {
   "cell_type": "code",
   "execution_count": 84,
   "metadata": {
    "collapsed": false
   },
   "outputs": [
    {
     "data": {
      "text/plain": [
       "List(50.0, 40.0, 9.95)"
      ]
     },
     "execution_count": 84,
     "metadata": {},
     "output_type": "execute_result"
    }
   ],
   "source": [
    "val ft = ((a:Double,b:Int ) => (a * b)).tupled\n",
    "(prices zip quantities) map(ft(_))"
   ]
  }
 ],
 "metadata": {
  "kernelspec": {
   "display_name": "Apache Toree - Scala",
   "language": "scala",
   "name": "apache_toree_scala"
  },
  "language_info": {
   "name": "scala",
   "version": "2.10.4"
  }
 },
 "nbformat": 4,
 "nbformat_minor": 2
}
