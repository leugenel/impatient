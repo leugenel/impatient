{
 "cells": [
  {
   "cell_type": "markdown",
   "metadata": {},
   "source": [
    "Exercise 5"
   ]
  },
  {
   "cell_type": "code",
   "execution_count": null,
   "metadata": {
    "collapsed": false,
    "scrolled": true
   },
   "outputs": [],
   "source": [
    "val myList = List(List(3,8), 2, List(5))\n",
    "for (i <- myList){println(i)} "
   ]
  },
  {
   "cell_type": "code",
   "execution_count": null,
   "metadata": {
    "collapsed": false,
    "scrolled": true
   },
   "outputs": [],
   "source": [
    "for (i <- myList){\n",
    "        i match{\n",
    "            case x: Int => println(\"Integer \" + x)\n",
    "            case y: List[Int] => println(\"List \" + y)\n",
    "        }\n",
    "    }"
   ]
  },
  {
   "cell_type": "code",
   "execution_count": null,
   "metadata": {
    "collapsed": false,
    "scrolled": true
   },
   "outputs": [],
   "source": [
    "def leafSum(lst: List[Any]): Int = {\n",
    "    var sum = 0;\n",
    "    for (i <- lst){\n",
    "        i match{\n",
    "            case x: Int => sum = sum + x\n",
    "            case y: List[Int] => sum = sum + leafSum(y)\n",
    "        }\n",
    "    }\n",
    "    sum \n",
    "}\n",
    "println(leafSum(myList))\n",
    "val myList2 = List(List(3,8), 2, List(5, List(1,2)))\n",
    "println(leafSum(myList2))"
   ]
  },
  {
   "cell_type": "code",
   "execution_count": null,
   "metadata": {
    "collapsed": false,
    "scrolled": true
   },
   "outputs": [],
   "source": [
    "def leafSum(lst: List[Any]): Int = {\n",
    "   lst.foldLeft(0){ (sum, cur) => {cur match{\n",
    "                                   case x: Int => sum+x\n",
    "                                   case y: List[Int] => sum+leafSum(y)}}}\n",
    "}\n",
    "println(leafSum(myList))\n",
    "val myList2 = List(List(3,8), 2, List(5, List(1,2)))\n",
    "println(leafSum(myList2))"
   ]
  },
  {
   "cell_type": "markdown",
   "metadata": {},
   "source": [
    "Exercise 6"
   ]
  },
  {
   "cell_type": "code",
   "execution_count": null,
   "metadata": {
    "collapsed": false
   },
   "outputs": [],
   "source": [
    "sealed abstract class MyBinaryTree;\n",
    "case class MyLeaf(value: Int) extends MyBinaryTree;\n",
    "case class MyNode(left: MyBinaryTree, right: MyBinaryTree) extends MyBinaryTree;\n",
    "case object Nothing extends MyBinaryTree;\n",
    "\n",
    "def treeSum(node: MyBinaryTree):Int = {\n",
    "   node match {\n",
    "       case MyLeaf(x) => x\n",
    "       case MyNode(n1, n2) => treeSum(n1)+treeSum(n2)\n",
    "       case Nothing => 0\n",
    "   }\n",
    "      \n",
    "}\n",
    "\n",
    "val one = MyLeaf(1)\n",
    "val two = MyLeaf(2)\n",
    "val five = MyLeaf(5)\n",
    "val nodeFive = MyNode(five, Nothing)\n",
    "val nodeOne = MyNode(one, Nothing)\n",
    "val nodeTwo = MyNode(two, nodeFive)\n",
    "val nodeRoot = MyNode(nodeOne, nodeTwo)\n",
    "treeSum(nodeRoot)\n"
   ]
  },
  {
   "cell_type": "code",
   "execution_count": null,
   "metadata": {
    "collapsed": true
   },
   "outputs": [],
   "source": [
    "Exercise 7"
   ]
  },
  {
   "cell_type": "code",
   "execution_count": 10,
   "metadata": {
    "collapsed": false
   },
   "outputs": [
    {
     "name": "stdout",
     "output_type": "stream",
     "text": [
      "MyNode(WrappedArray(MyLeaf(1), MyLeaf(2)))\n",
      "MyNode(WrappedArray(MyLeaf(1), MyLeaf(2), MyLeaf(5)))\n",
      "MyNode(WrappedArray(MyNode(WrappedArray(MyLeaf(1), MyLeaf(2))), MyNode(WrappedArray(MyLeaf(1), MyLeaf(2), MyLeaf(5)))))\n",
      "MyNode(WrappedArray(MyNode(WrappedArray(MyLeaf(3), MyLeaf(8))), MyLeaf(2), MyNode(WrappedArray(MyLeaf(5)))))\n"
     ]
    },
    {
     "data": {
      "text/plain": [
       "Name: Compile Error\n",
       "Message: <console>:30: error: reference to MyBinaryTree is ambiguous;\n",
       "it is imported twice in the same scope by\n",
       "import INSTANCE.MyBinaryTree\n",
       "and import INSTANCE.MyBinaryTree\n",
       "       def treeSum(node: MyBinaryTree):Int = {\n",
       "                         ^\n",
       "<console>:32: error: reference to MyLeaf is ambiguous;\n",
       "it is imported twice in the same scope by\n",
       "import INSTANCE.MyLeaf\n",
       "and import INSTANCE.MyLeaf\n",
       "              case MyLeaf(x) => x\n",
       "                   ^\n",
       "<console>:32: error: not found: value x\n",
       "              case MyLeaf(x) => x\n",
       "                                ^\n",
       "<console>:33: error: reference to MyNode is ambiguous;\n",
       "it is imported twice in the same scope by\n",
       "import INSTANCE.MyNode\n",
       "and import INSTANCE.MyNode\n",
       "              case MyNode(n1, n2) => treeSum(n1)+treeSum(n2)\n",
       "                   ^\n",
       "<console>:33: error: not found: value n1\n",
       "              case MyNode(n1, n2) => treeSum(n1)+treeSum(n2)\n",
       "                                             ^\n",
       "StackTrace: "
      ]
     },
     "execution_count": 10,
     "metadata": {},
     "output_type": "execute_result"
    }
   ],
   "source": [
    "sealed abstract class MyBinaryTree;\n",
    "case class MyLeaf(value: Int) extends MyBinaryTree;\n",
    "case class MyNode(node: MyBinaryTree*) extends MyBinaryTree;\n",
    "case object Nothing extends MyBinaryTree;\n",
    "\n",
    "val nodeOne = MyNode(MyLeaf(1), MyLeaf(2))\n",
    "val nodeTwo = MyNode(MyLeaf(1), MyLeaf(2), MyLeaf(5))\n",
    "val nodeThree = MyNode(nodeOne, nodeTwo)\n",
    "val problemNode = MyNode(MyNode(MyLeaf(3),MyLeaf(8)), MyLeaf(2), MyNode(MyLeaf(5)))\n",
    "\n",
    "println(nodeOne)\n",
    "println(nodeTwo)\n",
    "println(nodeThree) \n",
    "println(problemNode)\n",
    "\n",
    "def treeSum(node: MyBinaryTree):Int = {\n",
    "   node match {\n",
    "       case MyLeaf(x) => x\n",
    "       case MyNode(n1, n2) => treeSum(n1)+treeSum(n2)\n",
    "       case Nothing => 0\n",
    "   }\n",
    "      \n",
    "}\n",
    "\n",
    "treeSum(problemNode)"
   ]
  }
 ],
 "metadata": {
  "kernelspec": {
   "display_name": "Apache Toree - Scala",
   "language": "scala",
   "name": "apache_toree_scala"
  },
  "language_info": {
   "name": "scala",
   "version": "2.10.4"
  }
 },
 "nbformat": 4,
 "nbformat_minor": 2
}
