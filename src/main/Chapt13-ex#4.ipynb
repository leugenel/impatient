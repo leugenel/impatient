{
 "cells": [
  {
   "cell_type": "code",
   "execution_count": 20,
   "metadata": {
    "collapsed": false
   },
   "outputs": [
    {
     "data": {
      "text/plain": [
       "List(3, 4, 5)"
      ]
     },
     "execution_count": 20,
     "metadata": {},
     "output_type": "execute_result"
    }
   ],
   "source": [
    "val myarray = Array(\"Tom\", \"Fred\", \"Harry\")\n",
    "val mymap =  Map(\"Tom\" -> 3, \"Dick\" -> 4, \"Harry\" -> 5)\n",
    "\n",
    "mymap.flatMap(s => s._2.toString)"
   ]
  },
  {
   "cell_type": "code",
   "execution_count": 22,
   "metadata": {
    "collapsed": false
   },
   "outputs": [],
   "source": [
    "val name = \"Tom1\"\n",
    "val myarray = Array(\"Tom\", \"Fred\", \"Harry\")\n",
    "if (myarray contains name) println(\"Yeh\");"
   ]
  },
  {
   "cell_type": "code",
   "execution_count": 30,
   "metadata": {
    "collapsed": false
   },
   "outputs": [
    {
     "data": {
      "text/plain": [
       "List(3, \"\", 5)"
      ]
     },
     "execution_count": 30,
     "metadata": {},
     "output_type": "execute_result"
    }
   ],
   "source": [
    "val myarray = Array(\"Tom\", \"Fred\", \"Harry\")\n",
    "val mymap =  Map(\"Tom\" -> 3, \"Dick\" -> 4, \"Harry\" -> 5)\n",
    "\n",
    "mymap.map(s =>if(myarray contains s._1){s._2.toString;}\n",
    "              else \"\" )"
   ]
  },
  {
   "cell_type": "code",
   "execution_count": 27,
   "metadata": {
    "collapsed": false
   },
   "outputs": [
    {
     "data": {
      "text/plain": [
       "List(3, 5)"
      ]
     },
     "execution_count": 27,
     "metadata": {},
     "output_type": "execute_result"
    }
   ],
   "source": [
    "val myarray = Array(\"Tom\", \"Fred\", \"Harry\")\n",
    "val mymap =  Map(\"Tom\" -> 3, \"Dick\" -> 4, \"Harry\" -> 5)\n",
    "\n",
    "mymap.flatMap(s =>if(myarray contains s._1){s._2.toString;}\n",
    "              else \"\" )"
   ]
  },
  {
   "cell_type": "code",
   "execution_count": 43,
   "metadata": {
    "collapsed": false
   },
   "outputs": [
    {
     "data": {
      "text/plain": [
       "Array(3, 5)"
      ]
     },
     "execution_count": 43,
     "metadata": {},
     "output_type": "execute_result"
    }
   ],
   "source": [
    "val myarray = Array(\"Tom\", \"Fred\", \"Harry\")\n",
    "val mymap =  Map(\"Tom\" -> 3, \"Dick\" -> 4, \"Harry\" -> 5)\n",
    "myarray.flatMap(s => if(mymap.exists(_._1 == s)){mymap(s).toString;}\n",
    "        else \"\")"
   ]
  }
 ],
 "metadata": {
  "kernelspec": {
   "display_name": "Apache Toree - Scala",
   "language": "scala",
   "name": "apache_toree_scala"
  },
  "language_info": {
   "name": "scala",
   "version": "2.10.4"
  }
 },
 "nbformat": 4,
 "nbformat_minor": 0
}